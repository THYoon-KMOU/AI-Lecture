{
 "cells": [
  {
   "cell_type": "code",
   "execution_count": 1,
   "metadata": {},
   "outputs": [
    {
     "name": "stdout",
     "output_type": "stream",
     "text": [
      "Use DeepLabv3+ as backbone\n"
     ]
    },
    {
     "name": "stderr",
     "output_type": "stream",
     "text": [
      "C:\\Users\\yth12\\AppData\\Local\\Temp\\ipykernel_8044\\1676599933.py:40: FutureWarning: You are using `torch.load` with `weights_only=False` (the current default value), which uses the default pickle module implicitly. It is possible to construct malicious pickle data which will execute arbitrary code during unpickling (See https://github.com/pytorch/pytorch/blob/main/SECURITY.md#untrusted-models for more details). In a future release, the default value for `weights_only` will be flipped to `True`. This limits the functions that could be executed during unpickling. Arbitrary objects will no longer be allowed to be loaded via this mode unless they are explicitly allowlisted by the user via `torch.serialization.add_safe_globals`. We recommend you start setting `weights_only=True` for any use case where you don't have full control of the loaded file. Please open an issue on GitHub for any issues related to this experimental feature.\n",
      "  state_dict = torch.load(model_path)\n"
     ]
    }
   ],
   "source": [
    "import time\n",
    "import os\n",
    "import sys\n",
    "\n",
    "import torch\n",
    "from dataloader.transformers import Rescale\n",
    "from model.lanenet.LaneNet import LaneNet\n",
    "from torch.utils.data import DataLoader\n",
    "from torch.autograd import Variable\n",
    "from torchvision import transforms\n",
    "from model.utils.cli_helper_test import parse_args\n",
    "import numpy as np\n",
    "from PIL import Image\n",
    "import pandas as pd\n",
    "import cv2\n",
    "\n",
    "DEVICE = torch.device(\"cuda:0\" if torch.cuda.is_available() else \"cpu\")\n",
    "\n",
    "def preprocess_frame(frame, transform):\n",
    "    \"\"\"웹캠 프레임을 전처리합니다.\"\"\"\n",
    "    frame = Image.fromarray(frame)\n",
    "    frame = transform(frame)\n",
    "    return frame\n",
    "\n",
    "def test_with_webcam():\n",
    "    # 모델 경로 지정\n",
    "    model_path = r'C:\\\\Users\\\\yth12\\\\Desktop\\\\LaneNet\\\\log\\\\lanenet_DeepLabv3+_CrossEntrophy_epoch100_batchsize8.pth'\n",
    "    resize_height = 480  # 원하는 이미지 크기로 설정\n",
    "    resize_width = 640   # 원하는 이미지 크기로 설정\n",
    "\n",
    "    # Transform 정의\n",
    "    data_transform = transforms.Compose([\n",
    "        transforms.Resize((resize_height,  resize_width)),\n",
    "        transforms.ToTensor(),\n",
    "        transforms.Normalize([0.485, 0.456, 0.406], [0.229, 0.224, 0.225])\n",
    "    ])\n",
    "\n",
    "    # 모델 로드\n",
    "    model = LaneNet(arch='DeepLabv3+')  # 모델 타입을 적절히 지정\n",
    "    state_dict = torch.load(model_path)\n",
    "    model.load_state_dict(state_dict)\n",
    "    model.eval()\n",
    "    model.to(DEVICE)\n",
    "\n",
    "    # 웹캠 설정\n",
    "    cap = cv2.VideoCapture(0)  # 웹캠 사용 (카메라 인덱스 0)\n",
    "    if not cap.isOpened():\n",
    "        print(\"Error: Could not open webcam.\")\n",
    "        return\n",
    "\n",
    "    while True:\n",
    "        ret, frame = cap.read()\n",
    "        if not ret:\n",
    "            print(\"Error: Failed to capture image.\")\n",
    "            break\n",
    "\n",
    "        # 프레임 전처리\n",
    "        input_img = preprocess_frame(frame, data_transform).to(DEVICE)\n",
    "        input_img = torch.unsqueeze(input_img, dim=0)\n",
    "\n",
    "        # 모델 추론\n",
    "        with torch.no_grad():\n",
    "            outputs = model(input_img)\n",
    "\n",
    "        # 결과 후처리\n",
    "        instance_pred = torch.squeeze(outputs['instance_seg_logits'].detach().to('cpu')).numpy() * 255\n",
    "        binary_pred = torch.squeeze(outputs['binary_seg_pred']).to('cpu').numpy() * 255\n",
    "\n",
    "        # 이미지를 numpy 배열로 변환\n",
    "        instance_pred = np.transpose(instance_pred, (1, 2, 0))\n",
    "\n",
    "        # 결과 화면에 출력\n",
    "        cv2.imshow('Webcam Input', frame)\n",
    "        cv2.imshow('Instance Output', instance_pred.astype(np.uint8))\n",
    "        cv2.imshow('Binary Output', binary_pred.astype(np.uint8))\n",
    "\n",
    "        # 'q' 키를 누르면 종료\n",
    "        if cv2.waitKey(1) & 0xFF == ord('q'):\n",
    "            break\n",
    "\n",
    "    # 웹캠 릴리즈 및 창 닫기\n",
    "    cap.release()\n",
    "    cv2.destroyAllWindows()\n",
    "\n",
    "if __name__ == \"__main__\":\n",
    "    test_with_webcam()\n"
   ]
  }
 ],
 "metadata": {
  "kernelspec": {
   "display_name": "mypy38",
   "language": "python",
   "name": "py38"
  },
  "language_info": {
   "codemirror_mode": {
    "name": "ipython",
    "version": 3
   },
   "file_extension": ".py",
   "mimetype": "text/x-python",
   "name": "python",
   "nbconvert_exporter": "python",
   "pygments_lexer": "ipython3",
   "version": "3.8.16"
  }
 },
 "nbformat": 4,
 "nbformat_minor": 2
}
