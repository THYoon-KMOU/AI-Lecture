{
 "cells": [
  {
   "cell_type": "code",
   "execution_count": 2,
   "metadata": {},
   "outputs": [
    {
     "name": "stdout",
     "output_type": "stream",
     "text": [
      "True\n"
     ]
    }
   ],
   "source": [
    "import cv2\n",
    "import numpy as np\n",
    "import torch\n",
    "from torchvision import transforms\n",
    "from model.lanenet.LaneNet import LaneNet\n",
    "from PIL import Image\n",
    "\n",
    "DEVICE = torch.device(\"cuda:0\" if torch.cuda.is_available() else \"cpu\")\n",
    "print(torch.cuda.is_available())"
   ]
  },
  {
   "cell_type": "code",
   "execution_count": 3,
   "metadata": {},
   "outputs": [],
   "source": [
    "def preprocess_frame(frame, transform):\n",
    "    frame = Image.fromarray(frame)\n",
    "    frame = transform(frame)\n",
    "    return frame\n",
    "\n",
    "def detect_lanes(binary_pred, min_pixels=100, roi_height=0.6):\n",
    "    height, width = binary_pred.shape\n",
    "    roi_y = int(height * (1 - roi_height))\n",
    "    \n",
    "    # ROI 설정\n",
    "    roi = binary_pred[roi_y:, :]\n",
    "    \n",
    "    # 차선 후보 픽셀 찾기\n",
    "    left_candidates = []\n",
    "    right_candidates = []\n",
    "    \n",
    "    for y in range(roi.shape[0]):\n",
    "        row = roi[y]\n",
    "        left_pixels = np.where(row[:width//2] > 200)[0]\n",
    "        right_pixels = np.where(row[width//2:] > 200)[0] + width//2\n",
    "        \n",
    "        if len(left_pixels) > 0:\n",
    "            left_candidates.append((np.mean(left_pixels), y + roi_y))\n",
    "        if len(right_pixels) > 0:\n",
    "            right_candidates.append((np.mean(right_pixels), y + roi_y))\n",
    "    \n",
    "    # 차선 피팅\n",
    "    left_lane = right_lane = None\n",
    "    if len(left_candidates) > min_pixels:\n",
    "        left_lane = np.polyfit([p[1] for p in left_candidates], [p[0] for p in left_candidates], 2)\n",
    "    if len(right_candidates) > min_pixels:\n",
    "        right_lane = np.polyfit([p[1] for p in right_candidates], [p[0] for p in right_candidates], 2)\n",
    "    \n",
    "    return left_lane, right_lane\n",
    "\n",
    "def draw_lanes(frame, left_lane, right_lane):\n",
    "    height, width, _ = frame.shape\n",
    "    y = np.linspace(height // 2, height, num=10)\n",
    "    \n",
    "    if left_lane is not None:\n",
    "        left_x = left_lane[0] * y**2 + left_lane[1] * y + left_lane[2]\n",
    "        pts_left = np.array([np.transpose(np.vstack([left_x, y]))])\n",
    "        cv2.polylines(frame, [pts_left.astype(np.int32)], isClosed=False, color=(255, 0, 0), thickness=5)\n",
    "    \n",
    "    if right_lane is not None:\n",
    "        right_x = right_lane[0] * y**2 + right_lane[1] * y + right_lane[2]\n",
    "        pts_right = np.array([np.transpose(np.vstack([right_x, y]))])\n",
    "        cv2.polylines(frame, [pts_right.astype(np.int32)], isClosed=False, color=(0, 0, 255), thickness=5)\n",
    "    \n",
    "    return frame"
   ]
  },
  {
   "cell_type": "code",
   "execution_count": 4,
   "metadata": {},
   "outputs": [],
   "source": [
    "def test_with_webcam():\n",
    "    model_path = r'C:\\Users\\yth12\\Dropbox\\4. 기타 자료\\해군 AI 특강\\AI_Lecture\\Day1\\Deep-Learning\\LaneNet\\log\\lanenet_DeepLabv3+_CrossEntrophy_epoch100_batchsize8.pth'\n",
    "    resize_height, resize_width = 480, 640\n",
    "\n",
    "    data_transform = transforms.Compose([\n",
    "        transforms.Resize((resize_height, resize_width)),\n",
    "        transforms.ToTensor(),\n",
    "        transforms.Normalize([0.485, 0.456, 0.406], [0.229, 0.224, 0.225])\n",
    "    ])\n",
    "\n",
    "    model = LaneNet(arch='DeepLabv3+')\n",
    "    state_dict = torch.load(model_path)\n",
    "    model.load_state_dict(state_dict)\n",
    "    model.eval()\n",
    "    model.to(DEVICE)\n",
    "\n",
    "    cap = cv2.VideoCapture(0)\n",
    "    if not cap.isOpened():\n",
    "        print(\"Error: Could not open webcam.\")\n",
    "        return\n",
    "\n",
    "    while True:\n",
    "        ret, frame = cap.read()\n",
    "        if not ret:\n",
    "            print(\"Error: Failed to capture image.\")\n",
    "            break\n",
    "\n",
    "        input_img = preprocess_frame(frame, data_transform).to(DEVICE)\n",
    "        input_img = torch.unsqueeze(input_img, dim=0)\n",
    "\n",
    "        with torch.no_grad():\n",
    "            outputs = model(input_img)\n",
    "\n",
    "        binary_pred = torch.squeeze(outputs['binary_seg_pred']).to('cpu').numpy() * 255\n",
    "        \n",
    "        # 차선 검출\n",
    "        left_lane, right_lane = detect_lanes(binary_pred)\n",
    "        \n",
    "        # 검출된 차선 그리기\n",
    "        result_frame = draw_lanes(frame, left_lane, right_lane)\n",
    "\n",
    "        cv2.imshow('Lane Detection Result', result_frame)\n",
    "        cv2.imshow('Binary Segmentation', binary_pred.astype(np.uint8))\n",
    "\n",
    "        if cv2.waitKey(1) & 0xFF == ord('q'):\n",
    "            break\n",
    "\n",
    "    cap.release()\n",
    "    cv2.destroyAllWindows()\n"
   ]
  },
  {
   "cell_type": "code",
   "execution_count": 5,
   "metadata": {},
   "outputs": [
    {
     "name": "stdout",
     "output_type": "stream",
     "text": [
      "Use DeepLabv3+ as backbone\n"
     ]
    },
    {
     "name": "stderr",
     "output_type": "stream",
     "text": [
      "C:\\Users\\yth12\\AppData\\Local\\Temp\\ipykernel_4116\\3336258325.py:12: FutureWarning: You are using `torch.load` with `weights_only=False` (the current default value), which uses the default pickle module implicitly. It is possible to construct malicious pickle data which will execute arbitrary code during unpickling (See https://github.com/pytorch/pytorch/blob/main/SECURITY.md#untrusted-models for more details). In a future release, the default value for `weights_only` will be flipped to `True`. This limits the functions that could be executed during unpickling. Arbitrary objects will no longer be allowed to be loaded via this mode unless they are explicitly allowlisted by the user via `torch.serialization.add_safe_globals`. We recommend you start setting `weights_only=True` for any use case where you don't have full control of the loaded file. Please open an issue on GitHub for any issues related to this experimental feature.\n",
      "  state_dict = torch.load(model_path)\n"
     ]
    }
   ],
   "source": [
    "if __name__ == \"__main__\":\n",
    "    test_with_webcam()"
   ]
  }
 ],
 "metadata": {
  "kernelspec": {
   "display_name": "LFA",
   "language": "python",
   "name": "python3"
  },
  "language_info": {
   "codemirror_mode": {
    "name": "ipython",
    "version": 3
   },
   "file_extension": ".py",
   "mimetype": "text/x-python",
   "name": "python",
   "nbconvert_exporter": "python",
   "pygments_lexer": "ipython3",
   "version": "3.8.16"
  }
 },
 "nbformat": 4,
 "nbformat_minor": 2
}
