{
 "cells": [
  {
   "cell_type": "markdown",
   "metadata": {},
   "source": [
    "#### Import Library\n",
    "\n",
    "###### 차선 검출에 필요한 Library 들을 현재 파일에 호출한다."
   ]
  },
  {
   "cell_type": "code",
   "execution_count": 2,
   "metadata": {},
   "outputs": [],
   "source": [
    "# -*- coding: utf-8 -*-\n",
    "import cv2\n",
    "import math\n",
    "import numpy as np"
   ]
  },
  {
   "cell_type": "markdown",
   "metadata": {},
   "source": [
    "#### 함수 정의"
   ]
  },
  {
   "cell_type": "markdown",
   "metadata": {},
   "source": [
    "##### Step 1\n",
    "###### 이 함수들을 통해 차선을 검출하는 과정에서 특정 영역을 설정 및 불필요한 부분 제거가 가능하다."
   ]
  },
  {
   "cell_type": "code",
   "execution_count": 3,
   "metadata": {},
   "outputs": [],
   "source": [
    "# HSV 조절 시, 사용할 빈 Callback 함수 -> 값의 변화를 반영시킬 때 사용함\n",
    "def nothing(x):\n",
    "    pass\n",
    "\n",
    "# 입력 이미지에서 관심 영역(ROI, Region of Interest)을 설정하는 함수\n",
    "# 다각형 형태의 관심 영역을 마스킹하여 다른 부분을 가림\n",
    "def region_of_interest(img, roi):\n",
    "    vertices = np.array([roi], np.int32)\n",
    "    mask = np.zeros_like(img)\n",
    "    match_mask_color = 255\n",
    "    cv2.fillPoly(mask, vertices, match_mask_color)\n",
    "    masked_image = cv2.bitwise_and(img, mask)\n",
    "    return masked_image"
   ]
  },
  {
   "cell_type": "markdown",
   "metadata": {},
   "source": [
    "##### Step 2\n",
    "\n",
    "###### 이미지 엣지 검출 및 차선 찾기 함수 정의"
   ]
  },
  {
   "cell_type": "code",
   "execution_count": 4,
   "metadata": {},
   "outputs": [],
   "source": [
    "# Using Canny to find edges\n",
    "def find_edges(img, h_min=0, h_max=0, s_min=0, s_max=0, v_min=0, v_max=0):\n",
    "    height = img.shape[0]\n",
    "    width = img.shape[1]\n",
    "    \n",
    "    roi = [\n",
    "        (0, height),\n",
    "        (0, height / 2),\n",
    "        (width, height / 2),\n",
    "        (width, height)\n",
    "    ]\n",
    "\n",
    "    # Blur\n",
    "    img = cv2.GaussianBlur(img, (5, 5), 0)\n",
    "\n",
    "    # Change image channel to HSV\n",
    "    hsv = cv2.cvtColor(img, cv2.COLOR_BGR2HSV)\n",
    "    low_val = (h_min, s_min, v_min)\n",
    "    high_val = (h_max, s_max, v_max)\n",
    "\n",
    "    # Threshold\n",
    "    mask = cv2.inRange(hsv, low_val, high_val)\n",
    "\n",
    "    # Crop the image\n",
    "    mask = region_of_interest(mask, roi)\n",
    "\n",
    "    # find edges\n",
    "    edges = cv2.Canny(mask, 75, 150)\n",
    "    return edges\n"
   ]
  },
  {
   "cell_type": "markdown",
   "metadata": {},
   "source": [
    "##### Step 3\n",
    "\n",
    "###### 차선 검출 및 차선 그리기 함수 정의"
   ]
  },
  {
   "cell_type": "code",
   "execution_count": 5,
   "metadata": {},
   "outputs": [],
   "source": [
    "# After Canny & Hough Transform, find a line\n",
    "def find_lines(image, lines):\n",
    "    width = image.shape[1]\n",
    "\n",
    "    # init list\n",
    "    lane_lines = []\n",
    "    left_fit = []\n",
    "    right_fit = []\n",
    "    \n",
    "    boundary = 1 / float(3)\n",
    "    left_region_boundary = width * (1 - float(boundary))\n",
    "    right_region_boundary = width * float(boundary)\n",
    "\n",
    "    for line in lines:\n",
    "        for x1, y1, x2, y2 in line:\n",
    "            if x1 == x2:\n",
    "                continue\n",
    "            fit = np.polyfit((x1, x2), (y1, y2), 1)\n",
    "            slope = fit[0]\n",
    "            intercept = fit[1]\n",
    "\n",
    "            if slope < 0:\n",
    "                if x1 < left_region_boundary and x2 < left_region_boundary:\n",
    "                    left_fit.append((slope, intercept))\n",
    "            else:\n",
    "                if x1 > right_region_boundary and x2 > right_region_boundary:\n",
    "                    right_fit.append((slope, intercept))\n",
    "\n",
    "    if len(left_fit) > 0:\n",
    "        left_fir_average = np.average(left_fit, axis=0)\n",
    "        lane_lines.append(make_points(image, left_fir_average))\n",
    "    if len(right_fit) > 0:\n",
    "        right_fit_average = np.average(right_fit, axis=0)\n",
    "        lane_lines.append(make_points(image, right_fit_average))\n",
    "\n",
    "    return lane_lines\n",
    "\n",
    "# Draw detected lanes\n",
    "def draw_line(image, lane_lines, current_theta):\n",
    "    height = image.shape[0]\n",
    "    width = image.shape[1]\n",
    "\n",
    "    if len(lane_lines) == 2:\n",
    "        _, _, left_x2, _ = lane_lines[0][0]\n",
    "        _, _, right_x2, _ = lane_lines[1][0]\n",
    "        mid = int(width / float(2))\n",
    "\n",
    "        base_x = int(left_x2 + right_x2) / 2 - float(mid)\n",
    "        base_y = int(height / float(2))\n",
    "        image, current_theta = display_base_line(image, current_theta, 2, base_x, base_y)\n",
    "    elif len(lane_lines) == 1:\n",
    "        x1, _, x2, _ = lane_lines[0][0]\n",
    "        base_x = x2 - x1\n",
    "        base_y = int(height / float(2))\n",
    "        image, current_theta = display_base_line(image, current_theta, 1, base_x, base_y)\n",
    "    else:\n",
    "        base_x = width / float(2)\n",
    "        base_y = int(height / float(2))\n",
    "        image, current_theta = display_base_line(image, 0, 0, base_x, base_y)\n",
    "\n",
    "    for line in lane_lines:\n",
    "        for x1, y1, x2, y2 in line:\n",
    "            cv2.line(image, (x1, y1), (x2, y2), (0, 255, 0), 7)\n",
    "\n",
    "    return image, current_theta\n",
    "\n",
    "# Create points for lane lines\n",
    "def make_points(frame, line):\n",
    "    height, width, _ = frame.shape\n",
    "    slope, intercept = line\n",
    "    y1 = height  # bottom of the frame\n",
    "    y2 = int(y1 / float(2))  # middle of the frame\n",
    "\n",
    "    if slope == 0:\n",
    "        slope = 1\n",
    "    x1 = max(-width, min(2 * width, int((y1 - intercept) / float(slope))))\n",
    "    x2 = max(-width, min(2 * width, int((y2 - intercept) / float(slope))))\n",
    "\n",
    "    return [[x1, y1, x2, y2]]"
   ]
  },
  {
   "cell_type": "markdown",
   "metadata": {},
   "source": [
    "##### Step 4\n",
    "\n",
    "###### 차선 방향과 각도 안정화 관련 함수 정의"
   ]
  },
  {
   "cell_type": "code",
   "execution_count": 6,
   "metadata": {},
   "outputs": [],
   "source": [
    "# Display base line to determine lane curvature\n",
    "def display_base_line(image, current_theta, line_num, base_x, base_y):\n",
    "    height = image.shape[0]\n",
    "    width = image.shape[1]\n",
    "    \n",
    "    angle_to_mid_radian = math.atan(base_x / float(base_y))\n",
    "    angle_to_mid_deg = int(angle_to_mid_radian * 180 / float(3.14))\n",
    "    angle_to_mid_deg = stabilize_angle(current_theta, angle_to_mid_deg, number_of_line=line_num)\n",
    "\n",
    "    theta = angle_to_mid_deg + 90\n",
    "    steering_angle_radian = theta / float(180) * float(3.14)\n",
    "\n",
    "    x1 = int(width / float(2))\n",
    "    y1 = height\n",
    "    if steering_angle_radian == 0:\n",
    "        x2 = int(width / float(2))\n",
    "    else:\n",
    "        x2 = int(x1 - height * 2 / 3 / float(math.tan(steering_angle_radian)))\n",
    "\n",
    "    y2 = int(height / float(2))\n",
    "\n",
    "    result = np.zeros_like(image)\n",
    "    cv2.line(result, (x1, y1), (x2, y2), (0, 255, 255), 4)\n",
    "    result = cv2.addWeighted(image, 0.8, result, 1, 1)\n",
    "\n",
    "    return result, angle_to_mid_deg\n",
    "\n",
    "# Stabilize the detected lane angle\n",
    "def stabilize_angle(curr_theta, new_theta, number_of_line, max_twoLine_angle_offset=1, max_signleLine_angle_offset=1):\n",
    "    if number_of_line == 2:\n",
    "        max_angle_offset = max_twoLine_angle_offset\n",
    "    elif number_of_line == 1:\n",
    "        max_angle_offset = max_signleLine_angle_offset\n",
    "    else:\n",
    "        return 0\n",
    "\n",
    "    angle_offset = new_theta - curr_theta\n",
    "    if abs(angle_offset) > max_angle_offset:\n",
    "        fixed_angle = curr_theta + max_angle_offset * (angle_offset / abs(angle_offset))\n",
    "    else:\n",
    "        fixed_angle = new_theta\n",
    "\n",
    "    if fixed_angle > 20:\n",
    "        fixed_angle = 20\n",
    "    elif fixed_angle < -20:\n",
    "        fixed_angle = -20\n",
    "\n",
    "    return fixed_angle"
   ]
  },
  {
   "cell_type": "markdown",
   "metadata": {},
   "source": [
    "##### Step 5\n",
    "\n",
    "###### 주된 차선 검출 로직 함수 정의"
   ]
  },
  {
   "cell_type": "code",
   "execution_count": 7,
   "metadata": {},
   "outputs": [],
   "source": [
    "# Main lane detection function\n",
    "def line_detect(image, current_theta=0, h_min=0, h_max=179, s_min=0, s_max=255, v_min=190, v_max=255):\n",
    "    height = image.shape[0]\n",
    "    width = image.shape[1]\n",
    "\n",
    "    edges = find_edges(image, h_min, h_max, s_min, s_max, v_min, v_max)\n",
    "    cv2.imshow('Canny', edges)\n",
    "\n",
    "    lines = cv2.HoughLinesP(edges, 1, float(3.14) / float(180), 50, maxLineGap=100)\n",
    "    \n",
    "    if lines is not None:\n",
    "        lane_lines = find_lines(image, lines=lines)\n",
    "        if lane_lines is not None:\n",
    "            image, current_theta = draw_line(image, lane_lines=lane_lines, current_theta=current_theta)\n",
    "\n",
    "    if current_theta > 0:\n",
    "        direction = 'Right'\n",
    "    elif current_theta < 0:\n",
    "        direction = 'Left'\n",
    "    else:\n",
    "        direction = 'Straight'\n",
    "\n",
    "    image = cv2.putText(image, direction + ' ' + str(current_theta),\n",
    "                        (int(height - 200), int(width / float(2))),\n",
    "                        cv2.FONT_HERSHEY_PLAIN,\n",
    "                        3, (255, 255, 0))\n",
    "\n",
    "    return image, current_theta, direction"
   ]
  },
  {
   "cell_type": "markdown",
   "metadata": {},
   "source": [
    "##### Step 6\n",
    "\n",
    "###### Video 파일 또는 웹캠을 통한 영상에서 차선을 검출하기 위한 함수 정의"
   ]
  },
  {
   "cell_type": "code",
   "execution_count": 8,
   "metadata": {},
   "outputs": [],
   "source": [
    "# HSV 슬라이더를 통해 값을 조절할 수 있는 기능 추가\n",
    "def process_video_with_hsv_control():\n",
    "    cap = cv2.VideoCapture(0)  # 웹캠 사용\n",
    "    if not cap.isOpened():\n",
    "        print(\"웹캠을 열 수 없습니다. 웹캠이 제대로 연결되어 있는지 확인해주세요.\")\n",
    "        return\n",
    "\n",
    "    current_theta = 0\n",
    "\n",
    "    # HSV 컨트롤 창 생성\n",
    "    cv2.namedWindow('Control')\n",
    "    cv2.createTrackbar('h_min', 'Control', 0, 179, nothing)\n",
    "    cv2.createTrackbar('h_max', 'Control', 0, 179, nothing)\n",
    "    cv2.createTrackbar('s_min', 'Control', 0, 255, nothing)\n",
    "    cv2.createTrackbar('s_max', 'Control', 0, 255, nothing)\n",
    "    cv2.createTrackbar('v_min', 'Control', 0, 255, nothing)\n",
    "    cv2.createTrackbar('v_max', 'Control', 0, 255, nothing)\n",
    "\n",
    "    # 초기 HSV 슬라이더 값 설정\n",
    "    cv2.setTrackbarPos('h_min', 'Control', 0)\n",
    "    cv2.setTrackbarPos('h_max', 'Control', 179)\n",
    "    cv2.setTrackbarPos('s_min', 'Control', 0)\n",
    "    cv2.setTrackbarPos('s_max', 'Control', 255)\n",
    "    cv2.setTrackbarPos('v_min', 'Control', 190)\n",
    "    cv2.setTrackbarPos('v_max', 'Control', 255)\n",
    "\n",
    "    while cap.isOpened():\n",
    "        ret, frame = cap.read()\n",
    "        if ret:\n",
    "            frame = cv2.resize(frame, dsize=(640, 480))\n",
    "\n",
    "            # HSV 슬라이더 값 읽기\n",
    "            h_min = cv2.getTrackbarPos('h_min', 'Control')\n",
    "            h_max = cv2.getTrackbarPos('h_max', 'Control')\n",
    "            s_min = cv2.getTrackbarPos('s_min', 'Control')\n",
    "            s_max = cv2.getTrackbarPos('s_max', 'Control')\n",
    "            v_min = cv2.getTrackbarPos('v_min', 'Control')\n",
    "            v_max = cv2.getTrackbarPos('v_max', 'Control')\n",
    "\n",
    "            # 실시간 차선 검출 수행\n",
    "            img, current_theta, direction = line_detect(frame, current_theta, h_min, h_max, s_min, s_max, v_min, v_max)\n",
    "            cv2.imshow('result', img)\n",
    "\n",
    "            if cv2.waitKey(50) & 0xFF == ord('q'):\n",
    "                break\n",
    "        else:\n",
    "            break\n",
    "\n",
    "    cap.release()\n",
    "    cv2.destroyAllWindows()"
   ]
  },
  {
   "cell_type": "markdown",
   "metadata": {},
   "source": [
    "#### 코드 전체 실행"
   ]
  },
  {
   "cell_type": "code",
   "execution_count": 9,
   "metadata": {},
   "outputs": [
    {
     "ename": "error",
     "evalue": "OpenCV(4.10.0) D:\\a\\opencv-python\\opencv-python\\opencv\\modules\\highgui\\src\\window_w32.cpp:2561: error: (-27:Null pointer) NULL window: 'Control' in function 'cvGetTrackbarPos'\n",
     "output_type": "error",
     "traceback": [
      "\u001b[1;31m---------------------------------------------------------------------------\u001b[0m",
      "\u001b[1;31merror\u001b[0m                                     Traceback (most recent call last)",
      "Cell \u001b[1;32mIn[9], line 1\u001b[0m\n\u001b[1;32m----> 1\u001b[0m \u001b[43mprocess_video_with_hsv_control\u001b[49m\u001b[43m(\u001b[49m\u001b[43m)\u001b[49m\n",
      "Cell \u001b[1;32mIn[8], line 33\u001b[0m, in \u001b[0;36mprocess_video_with_hsv_control\u001b[1;34m()\u001b[0m\n\u001b[0;32m     30\u001b[0m frame \u001b[38;5;241m=\u001b[39m cv2\u001b[38;5;241m.\u001b[39mresize(frame, dsize\u001b[38;5;241m=\u001b[39m(\u001b[38;5;241m640\u001b[39m, \u001b[38;5;241m480\u001b[39m))\n\u001b[0;32m     32\u001b[0m \u001b[38;5;66;03m# HSV 슬라이더 값 읽기\u001b[39;00m\n\u001b[1;32m---> 33\u001b[0m h_min \u001b[38;5;241m=\u001b[39m \u001b[43mcv2\u001b[49m\u001b[38;5;241;43m.\u001b[39;49m\u001b[43mgetTrackbarPos\u001b[49m\u001b[43m(\u001b[49m\u001b[38;5;124;43m'\u001b[39;49m\u001b[38;5;124;43mh_min\u001b[39;49m\u001b[38;5;124;43m'\u001b[39;49m\u001b[43m,\u001b[49m\u001b[43m \u001b[49m\u001b[38;5;124;43m'\u001b[39;49m\u001b[38;5;124;43mControl\u001b[39;49m\u001b[38;5;124;43m'\u001b[39;49m\u001b[43m)\u001b[49m\n\u001b[0;32m     34\u001b[0m h_max \u001b[38;5;241m=\u001b[39m cv2\u001b[38;5;241m.\u001b[39mgetTrackbarPos(\u001b[38;5;124m'\u001b[39m\u001b[38;5;124mh_max\u001b[39m\u001b[38;5;124m'\u001b[39m, \u001b[38;5;124m'\u001b[39m\u001b[38;5;124mControl\u001b[39m\u001b[38;5;124m'\u001b[39m)\n\u001b[0;32m     35\u001b[0m s_min \u001b[38;5;241m=\u001b[39m cv2\u001b[38;5;241m.\u001b[39mgetTrackbarPos(\u001b[38;5;124m'\u001b[39m\u001b[38;5;124ms_min\u001b[39m\u001b[38;5;124m'\u001b[39m, \u001b[38;5;124m'\u001b[39m\u001b[38;5;124mControl\u001b[39m\u001b[38;5;124m'\u001b[39m)\n",
      "\u001b[1;31merror\u001b[0m: OpenCV(4.10.0) D:\\a\\opencv-python\\opencv-python\\opencv\\modules\\highgui\\src\\window_w32.cpp:2561: error: (-27:Null pointer) NULL window: 'Control' in function 'cvGetTrackbarPos'\n"
     ]
    },
    {
     "ename": "",
     "evalue": "",
     "output_type": "error",
     "traceback": [
      "\u001b[1;31m현재 셀 또는 이전 셀에서 코드를 실행하는 동안 Kernel이 충돌했습니다. \n",
      "\u001b[1;31m셀의 코드를 검토하여 가능한 오류 원인을 식별하세요. \n",
      "\u001b[1;31m자세한 내용을 보려면 <a href='https://aka.ms/vscodeJupyterKernelCrash'>여기</a>를 클릭하세요. \n",
      "\u001b[1;31m자세한 내용은 Jupyter <a href='command:jupyter.viewOutput'>로그</a>를 참조하세요."
     ]
    }
   ],
   "source": [
    "process_video_with_hsv_control()"
   ]
  }
 ],
 "metadata": {
  "kernelspec": {
   "display_name": "LFA",
   "language": "python",
   "name": "python3"
  },
  "language_info": {
   "codemirror_mode": {
    "name": "ipython",
    "version": 3
   },
   "file_extension": ".py",
   "mimetype": "text/x-python",
   "name": "python",
   "nbconvert_exporter": "python",
   "pygments_lexer": "ipython3",
   "version": "3.8.16"
  }
 },
 "nbformat": 4,
 "nbformat_minor": 2
}
